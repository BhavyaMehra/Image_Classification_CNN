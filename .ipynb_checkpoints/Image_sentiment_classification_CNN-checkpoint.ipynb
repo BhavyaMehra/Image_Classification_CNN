{
 "cells": [
  {
   "cell_type": "markdown",
   "id": "d3934905",
   "metadata": {},
   "source": [
    "# Setup and Load Data "
   ]
  },
  {
   "cell_type": "code",
   "execution_count": 1,
   "id": "51190534",
   "metadata": {},
   "outputs": [],
   "source": [
    "import tensorflow as tf\n",
    "import os"
   ]
  },
  {
   "cell_type": "code",
   "execution_count": 7,
   "id": "df0e23b7",
   "metadata": {},
   "outputs": [],
   "source": [
    "# Avoid OOM errors\n",
    "gpus = tf.config.experimental.list_physical_devices('GPU')\n",
    "for gpu in gpus:\n",
    "    tf.config.experimental.set_memory_growth(gpu, True)"
   ]
  },
  {
   "cell_type": "code",
   "execution_count": 8,
   "id": "6fdb39ae",
   "metadata": {},
   "outputs": [],
   "source": [
    "gpus = tf.config.experimental.list_physical_devices('GPU')"
   ]
  },
  {
   "cell_type": "code",
   "execution_count": 1,
   "id": "928348eb",
   "metadata": {},
   "outputs": [],
   "source": [
    "data_dir = 'data'"
   ]
  },
  {
   "cell_type": "code",
   "execution_count": null,
   "id": "d50acd72",
   "metadata": {},
   "outputs": [],
   "source": [
    "image_exts = ['jpeg','jpg']"
   ]
  }
 ],
 "metadata": {
  "kernelspec": {
   "display_name": "Python 3 (ipykernel)",
   "language": "python",
   "name": "python3"
  },
  "language_info": {
   "codemirror_mode": {
    "name": "ipython",
    "version": 3
   },
   "file_extension": ".py",
   "mimetype": "text/x-python",
   "name": "python",
   "nbconvert_exporter": "python",
   "pygments_lexer": "ipython3",
   "version": "3.10.4"
  }
 },
 "nbformat": 4,
 "nbformat_minor": 5
}
